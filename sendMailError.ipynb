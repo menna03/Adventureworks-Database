{
 "cells": [
  {
   "cell_type": "code",
   "execution_count": 1,
   "id": "4d57ab55",
   "metadata": {},
   "outputs": [],
   "source": [
    "\n",
    "import traceback\n",
    "import logging\n",
    "from datetime import date,timedelta,datetime\n",
    "import smtplib\n",
    "from email.mime.multipart import MIMEMultipart\n",
    "from email.mime.text import MIMEText\n",
    "from email.mime.base import MIMEBase\n",
    "from email import encoders\n",
    "logger = logging.getLogger(__name__)\n",
    "\n",
    "import getpass\n"
   ]
  },
  {
   "cell_type": "markdown",
   "id": "9f68847c",
   "metadata": {},
   "source": [
    "- create an app password here https://myaccount.google.com/apppasswords\n",
    "- use it to access the account"
   ]
  },
  {
   "cell_type": "code",
   "execution_count": 2,
   "id": "7f0782c5",
   "metadata": {},
   "outputs": [],
   "source": [
    "import smtplib\n",
    "from email.mime.multipart import MIMEMultipart\n",
    "from email.mime.text import MIMEText\n",
    "\n",
    "def send_mail_error(\n",
    "    sender=\"osamamenna1511@gmail.com\",  # put sender email here \n",
    "    password='lwrx jrtd uhjm cjvt',  # add a comma here\n",
    "    to_list=[\"menna.elminshawy@yahoo.com\"],  # receiver list here\n",
    "    error=None,\n",
    "    subject=\"Error AD\",\n",
    "):\n",
    "    msg = MIMEMultipart()\n",
    "    msg[\"From\"] = sender\n",
    "    msg[\"To\"] = \", \".join(to_list)\n",
    "    msg[\"Subject\"] = subject\n",
    "    message = f\"\"\"<html><body>{error}</body></html>\"\"\"\n",
    "    msg.attach(MIMEText(message, \"html\"))\n",
    "    \n",
    "    # sends email\n",
    "    smtpserver = smtplib.SMTP(\"smtp.gmail.com\", 587)\n",
    "    smtpserver.starttls()\n",
    "    smtpserver.login(sender, password)  # use the 'sender' variable instead of hardcoding\n",
    "    smtpserver.sendmail(msg[\"From\"], to_list, msg.as_string())\n",
    "    smtpserver.quit()\n"
   ]
  },
  {
   "cell_type": "code",
   "execution_count": 3,
   "id": "ae99acd2",
   "metadata": {},
   "outputs": [
    {
     "name": "stderr",
     "output_type": "stream",
     "text": [
      "error test\n",
      "Traceback (most recent call last):\n",
      "  File \"C:\\Users\\menna\\AppData\\Local\\Temp\\ipykernel_41172\\3363566166.py\", line 3, in <module>\n",
      "    print(x)\n",
      "          ^\n",
      "NameError: name 'x' is not defined\n"
     ]
    }
   ],
   "source": [
    "##example code\n",
    "try:\n",
    "    print(x)\n",
    "except:\n",
    "    logger.exception(\"error test\")\n",
    "    send_mail_error(error = str (traceback.format_exc()),\n",
    "                    subject = 'Error test')"
   ]
  },
  {
   "cell_type": "code",
   "execution_count": null,
   "id": "f8b8fa16",
   "metadata": {},
   "outputs": [],
   "source": []
  }
 ],
 "metadata": {
  "hide_input": false,
  "kernelspec": {
   "display_name": "Python 3 (ipykernel)",
   "language": "python",
   "name": "python3"
  },
  "language_info": {
   "codemirror_mode": {
    "name": "ipython",
    "version": 3
   },
   "file_extension": ".py",
   "mimetype": "text/x-python",
   "name": "python",
   "nbconvert_exporter": "python",
   "pygments_lexer": "ipython3",
   "version": "3.11.9"
  },
  "varInspector": {
   "cols": {
    "lenName": 16,
    "lenType": 16,
    "lenVar": 40
   },
   "kernels_config": {
    "python": {
     "delete_cmd_postfix": "",
     "delete_cmd_prefix": "del ",
     "library": "var_list.py",
     "varRefreshCmd": "print(var_dic_list())"
    },
    "r": {
     "delete_cmd_postfix": ") ",
     "delete_cmd_prefix": "rm(",
     "library": "var_list.r",
     "varRefreshCmd": "cat(var_dic_list()) "
    }
   },
   "types_to_exclude": [
    "module",
    "function",
    "builtin_function_or_method",
    "instance",
    "_Feature"
   ],
   "window_display": false
  }
 },
 "nbformat": 4,
 "nbformat_minor": 5
}
