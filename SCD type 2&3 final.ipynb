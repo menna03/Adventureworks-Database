{
 "cells": [
  {
   "cell_type": "code",
   "execution_count": 27,
   "metadata": {},
   "outputs": [],
   "source": [
    "import pandas as pd\n",
    "from sqlalchemy import create_engine, text\n",
    "from sqlalchemy import text\n",
    "\n",
    "# Connection details for source and target databases\n",
    "server_source = 'MENNAS-LAPTOP\\\\MSSQLSERVER22'\n",
    "database_source = 'AdventureWorks2019'\n",
    "username_source = 'sa'\n",
    "password_source = 'sa123456'\n",
    "driver = 'ODBC Driver 17 for SQL Server'\n",
    "\n",
    "server_target = 'MENNAS-LAPTOP\\\\MSSQLSERVER22'\n",
    "database_target = 'HR'\n",
    "username_target = 'sa'\n",
    "password_target = 'sa123456'\n",
    "\n",
    "\n",
    "# Create engine for source and target databases\n",
    "connection_string_source = (\n",
    "    f'mssql+pyodbc://{username_source}:{password_source}@{server_source}/{database_source}'\n",
    "    f'?driver={driver.replace(\" \", \"+\")}'\n",
    ")\n",
    "engine_source = create_engine(connection_string_source, echo=False)\n",
    "\n",
    "connection_string_target = (\n",
    "    f'mssql+pyodbc://{username_target}:{password_target}@{server_target}/{database_target}'\n",
    "    f'?driver={driver.replace(\" \", \"+\")}'\n",
    ")\n",
    "engine_target = create_engine(connection_string_target, echo=False)\n"
   ]
  },
  {
   "cell_type": "markdown",
   "metadata": {},
   "source": [
    "## Working"
   ]
  },
  {
   "cell_type": "code",
   "execution_count": 50,
   "metadata": {},
   "outputs": [
    {
     "name": "stdout",
     "output_type": "stream",
     "text": [
      "Maximum Timestamp from AdventureWorks2019 EmployeeDepartmentHistory: 248014\n",
      "Maximum Timestamp from AdventureWorks2019 Employee: 188930\n",
      "Maximum Timestamp from HR database EmployeeDepartmentHistory: 151136\n"
     ]
    }
   ],
   "source": [
    "import pandas as pd\n",
    "from sqlalchemy import create_engine\n",
    "\n",
    "# Step 1: Get the maximum Timestamp from the HR dimension table in both databases\n",
    "\n",
    "# Query to get the maximum Timestamp from the HR EmployeeDepartmentHistory table in AdventureWorks2019\n",
    "query_max_timestamp_aw_EmployeeDepartmentHistory = \"\"\"\n",
    "SELECT CONVERT(INT, MAX([Timestamp])) AS MaxTimestamp\n",
    "FROM [AdventureWorks2019].[HumanResources].[EmployeeDepartmentHistory]\n",
    "\"\"\"\n",
    "\n",
    "# Query to get the maximum Timestamp from the HR Employee table in AdventureWorks2019\n",
    "query_max_timestamp_aw_Employee = \"\"\"\n",
    "SELECT CONVERT(INT, MAX([Timestamp])) AS MaxTimestamp\n",
    "FROM [AdventureWorks2019].[HumanResources].[Employee]\n",
    "\"\"\"\n",
    "\n",
    "# Query to get the maximum Timestamp from the HR dimension table in the HR database\n",
    "query_max_timestamp_hr = \"\"\"\n",
    "SELECT CONVERT(INT, MAX([Timestamp])) AS MaxTimestamp\n",
    "FROM [dimension].[EmployeeDepartmentHistory]\n",
    "\"\"\"\n",
    "\n",
    "try:\n",
    "    # Execute the query for AdventureWorks2019 EmployeeDepartmentHistory table\n",
    "    max_timestamp_aw_edh = pd.read_sql(query_max_timestamp_aw_EmployeeDepartmentHistory, engine_source)['MaxTimestamp'].iloc[0]\n",
    "    print(f\"Maximum Timestamp from AdventureWorks2019 EmployeeDepartmentHistory: {max_timestamp_aw_edh}\")\n",
    "    \n",
    "    # Execute the query for AdventureWorks2019 Employee table\n",
    "    max_timestamp_aw_emp = pd.read_sql(query_max_timestamp_aw_Employee, engine_source)['MaxTimestamp'].iloc[0]\n",
    "    print(f\"Maximum Timestamp from AdventureWorks2019 Employee: {max_timestamp_aw_emp}\")\n",
    "    \n",
    "    # Execute the query for HR database EmployeeDepartmentHistory table\n",
    "    max_timestamp_hr = pd.read_sql(query_max_timestamp_hr, engine_target)['MaxTimestamp'].iloc[0]\n",
    "    print(f\"Maximum Timestamp from HR database EmployeeDepartmentHistory: {max_timestamp_hr}\")\n",
    "    \n",
    "except Exception as e:\n",
    "    print(f\"Error retrieving maximum Timestamps: {e}\")\n",
    "\n"
   ]
  },
  {
   "cell_type": "code",
   "execution_count": 51,
   "metadata": {},
   "outputs": [
    {
     "data": {
      "text/html": [
       "<div>\n",
       "<style scoped>\n",
       "    .dataframe tbody tr th:only-of-type {\n",
       "        vertical-align: middle;\n",
       "    }\n",
       "\n",
       "    .dataframe tbody tr th {\n",
       "        vertical-align: top;\n",
       "    }\n",
       "\n",
       "    .dataframe thead th {\n",
       "        text-align: right;\n",
       "    }\n",
       "</style>\n",
       "<table border=\"1\" class=\"dataframe\">\n",
       "  <thead>\n",
       "    <tr style=\"text-align: right;\">\n",
       "      <th></th>\n",
       "      <th>BusinessEntityID</th>\n",
       "      <th>DepartmentID</th>\n",
       "      <th>ShiftID</th>\n",
       "      <th>StartDate</th>\n",
       "      <th>EndDate</th>\n",
       "      <th>ModifiedDate</th>\n",
       "      <th>Timestamp</th>\n",
       "    </tr>\n",
       "  </thead>\n",
       "  <tbody>\n",
       "    <tr>\n",
       "      <th>0</th>\n",
       "      <td>200</td>\n",
       "      <td>1</td>\n",
       "      <td>3</td>\n",
       "      <td>2009-01-17</td>\n",
       "      <td>None</td>\n",
       "      <td>2010-01-01</td>\n",
       "      <td>b'\\x00\\x00\\x00\\x00\\x00\\x03\\xc8\\xce'</td>\n",
       "    </tr>\n",
       "  </tbody>\n",
       "</table>\n",
       "</div>"
      ],
      "text/plain": [
       "   BusinessEntityID  DepartmentID  ShiftID   StartDate EndDate ModifiedDate  \\\n",
       "0               200             1        3  2009-01-17    None   2010-01-01   \n",
       "\n",
       "                             Timestamp  \n",
       "0  b'\\x00\\x00\\x00\\x00\\x00\\x03\\xc8\\xce'  "
      ]
     },
     "execution_count": 51,
     "metadata": {},
     "output_type": "execute_result"
    }
   ],
   "source": [
    "from sqlalchemy.orm import sessionmaker\n",
    "\n",
    "session = sessionmaker(engine_target)\n",
    "with session.begin() as sess:\n",
    "    select_stmt = f\"\"\"\n",
    "select * from  [AdventureWorks2019].[HumanResources].[EmployeeDepartmentHistory]\n",
    "where [BusinessEntityID] = 200\n",
    "    \"\"\"\n",
    "#     print(select_stmt)\n",
    "    df = pd.read_sql(select_stmt, engine_target)\n",
    "df"
   ]
  },
  {
   "cell_type": "code",
   "execution_count": 52,
   "metadata": {},
   "outputs": [
    {
     "name": "stdout",
     "output_type": "stream",
     "text": [
      "\n",
      "            UPDATE [AdventureWorks2019].[HumanResources].[EmployeeDepartmentHistory] \n",
      "            SET [ShiftID] = 1, \n",
      "                [EndDate] = null, \n",
      "                [ModifiedDate] = '2010-01-01'\n",
      "            WHERE [BusinessEntityID] = 200;\n",
      "    \n"
     ]
    }
   ],
   "source": [
    "session = sessionmaker(engine_target)\n",
    "with session.begin() as sess:\n",
    "    update_statement = f\"\"\"\n",
    "            UPDATE [AdventureWorks2019].[HumanResources].[EmployeeDepartmentHistory] \n",
    "            SET [ShiftID] = 1, \n",
    "                [EndDate] = null, \n",
    "                [ModifiedDate] = '2010-01-01'\n",
    "            WHERE [BusinessEntityID] = 200;\n",
    "    \"\"\"\n",
    "    print(update_statement)\n",
    "    sess.execute(text(update_statement))"
   ]
  },
  {
   "cell_type": "code",
   "execution_count": 53,
   "metadata": {},
   "outputs": [
    {
     "data": {
      "text/html": [
       "<div>\n",
       "<style scoped>\n",
       "    .dataframe tbody tr th:only-of-type {\n",
       "        vertical-align: middle;\n",
       "    }\n",
       "\n",
       "    .dataframe tbody tr th {\n",
       "        vertical-align: top;\n",
       "    }\n",
       "\n",
       "    .dataframe thead th {\n",
       "        text-align: right;\n",
       "    }\n",
       "</style>\n",
       "<table border=\"1\" class=\"dataframe\">\n",
       "  <thead>\n",
       "    <tr style=\"text-align: right;\">\n",
       "      <th></th>\n",
       "      <th>BusinessEntityID</th>\n",
       "      <th>DepartmentID</th>\n",
       "      <th>ShiftID</th>\n",
       "      <th>StartDate</th>\n",
       "      <th>EndDate</th>\n",
       "      <th>ModifiedDate</th>\n",
       "      <th>Timestamp</th>\n",
       "    </tr>\n",
       "  </thead>\n",
       "  <tbody>\n",
       "    <tr>\n",
       "      <th>0</th>\n",
       "      <td>200</td>\n",
       "      <td>1</td>\n",
       "      <td>1</td>\n",
       "      <td>2009-01-17</td>\n",
       "      <td>None</td>\n",
       "      <td>2010-01-01</td>\n",
       "      <td>b'\\x00\\x00\\x00\\x00\\x00\\x03\\xc8\\xcf'</td>\n",
       "    </tr>\n",
       "  </tbody>\n",
       "</table>\n",
       "</div>"
      ],
      "text/plain": [
       "   BusinessEntityID  DepartmentID  ShiftID   StartDate EndDate ModifiedDate  \\\n",
       "0               200             1        1  2009-01-17    None   2010-01-01   \n",
       "\n",
       "                             Timestamp  \n",
       "0  b'\\x00\\x00\\x00\\x00\\x00\\x03\\xc8\\xcf'  "
      ]
     },
     "execution_count": 53,
     "metadata": {},
     "output_type": "execute_result"
    }
   ],
   "source": [
    "from sqlalchemy.orm import sessionmaker\n",
    "\n",
    "session = sessionmaker(engine_target)\n",
    "with session.begin() as sess:\n",
    "    select_stmt = f\"\"\"\n",
    "select * from  [AdventureWorks2019].[HumanResources].[EmployeeDepartmentHistory]\n",
    "where [BusinessEntityID] = 200\n",
    "    \"\"\"\n",
    "#     print(select_stmt)\n",
    "    df = pd.read_sql(select_stmt, engine_target)\n",
    "df"
   ]
  },
  {
   "cell_type": "code",
   "execution_count": 54,
   "metadata": {},
   "outputs": [
    {
     "name": "stdout",
     "output_type": "stream",
     "text": [
      "New records from EmployeeDepartmentHistory loaded into DataFrame:\n",
      "      BusinessEntityID    ShiftID  StartDate    EndDate    ModifiedDate           Timestamp\n",
      "--  ------------------  ---------  -----------  ---------  -------------------  -----------\n",
      " 0                 200          1  2009-01-17              2010-01-01 00:00:00       248015\n",
      "New records from Employee loaded into DataFrame:\n",
      "BusinessEntityID    JobTitle    Timestamp\n",
      "------------------  ----------  -----------\n"
     ]
    }
   ],
   "source": [
    "import pandas as pd\n",
    "from sqlalchemy import create_engine\n",
    "\n",
    "# Step 3: Extract new records from HumanResources.Employee in AdventureWorks2019\n",
    "query_new_records_emp = f\"\"\"\n",
    "SELECT BusinessEntityID, JobTitle, CAST([Timestamp] AS BIGINT) AS Timestamp\n",
    "FROM HumanResources.Employee\n",
    "WHERE CAST([Timestamp] AS BIGINT) > {max_timestamp_aw_emp}\n",
    "\"\"\"\n",
    "\n",
    "# Step 2: Extract new records from HumanResources.EmployeeDepartmentHistory in AdventureWorks2019\n",
    "query_new_records_edh = f\"\"\"\n",
    "SELECT BusinessEntityID, ShiftID, StartDate, EndDate, ModifiedDate, CAST([Timestamp] AS BIGINT) AS Timestamp\n",
    "FROM HumanResources.EmployeeDepartmentHistory\n",
    "WHERE CAST([Timestamp] AS BIGINT) > {max_timestamp_aw_edh}\n",
    "\"\"\"\n",
    "# Execute the query to get new records from EmployeeDepartmentHistory\n",
    "df_new_records_edh = pd.read_sql(query_new_records_edh, engine_source)\n",
    "print(\"New records from EmployeeDepartmentHistory loaded into DataFrame:\")\n",
    "print(df_new_records_edh.head().to_markdown(tablefmt='simple'))\n",
    "    \n",
    "# Execute the query to get new records from Employee\n",
    "df_new_records_emp = pd.read_sql(query_new_records_emp, engine_source)\n",
    "print(\"New records from Employee loaded into DataFrame:\")\n",
    "print(df_new_records_emp.head().to_markdown(tablefmt='simple'))\n",
    "\n"
   ]
  },
  {
   "cell_type": "code",
   "execution_count": 55,
   "metadata": {},
   "outputs": [
    {
     "name": "stdout",
     "output_type": "stream",
     "text": [
      "Existing records loaded into DataFrame:\n",
      "      BusinessEntityID    ShiftID  StartDate    EndDate     ModifiedDate                Timestamp    IsCurrent\n",
      "--  ------------------  ---------  -----------  ----------  --------------------------  -----------  -----------\n",
      " 0                   1          2  2009-01-14   2024-08-17  2024-08-17 10:36:30.557000  \u0000\u0000\u0000\u0000\u0000\u0002M-              True\n",
      " 1                   1          2  2024-08-12   2024-08-17  2024-08-17 10:36:30.557000  \u0000\u0000\u0000\u0000\u0000\u0002M.              True\n",
      " 2                   1          2  2024-08-12   2024-08-17  2024-08-17 10:36:30.557000  \u0000\u0000\u0000\u0000\u0000\u0002M/              True\n",
      " 3                   2          1  2008-01-31               2008-01-30 00:00:00         \u0000\u0000\u0000\u0000\u0000\u0002M0              True\n",
      " 4                   2          2  2020-08-12               2024-08-12 13:38:03.163000  \u0000\u0000\u0000\u0000\u0000\u0002M1              True\n"
     ]
    }
   ],
   "source": [
    "import pandas as pd\n",
    "from sqlalchemy import create_engine\n",
    "\n",
    "# Retrieve the existing records from the target table\n",
    "query_existing_records = \"\"\"\n",
    "SELECT BusinessEntityID, ShiftID, StartDate, EndDate, ModifiedDate, Timestamp, IsCurrent\n",
    "FROM dimension.EmployeeDepartmentHistory\n",
    "\"\"\"\n",
    "try:\n",
    "    df_existing_records = pd.read_sql(query_existing_records, engine_target)\n",
    "    print(\"Existing records loaded into DataFrame:\")\n",
    "    print(df_existing_records.head().to_markdown(tablefmt='simple'))\n",
    "except Exception as e:\n",
    "    print(f\"Error loading existing records: {e}\")\n",
    "\n"
   ]
  },
  {
   "cell_type": "code",
   "execution_count": 56,
   "metadata": {},
   "outputs": [
    {
     "name": "stdout",
     "output_type": "stream",
     "text": [
      "New records loaded into DataFrame:\n",
      "|    |   BusinessEntityID |   ShiftID | StartDate   | EndDate   | ModifiedDate        |   Timestamp |\n",
      "|---:|-------------------:|----------:|:------------|:----------|:--------------------|------------:|\n",
      "|  0 |                200 |         1 | 2009-01-17  |           | 2010-01-01 00:00:00 |      248015 |\n"
     ]
    }
   ],
   "source": [
    "# Retrieve new records from the source table\n",
    "query_new_records_edh = f\"\"\"\n",
    "SELECT BusinessEntityID, ShiftID, StartDate, EndDate, ModifiedDate, CAST([Timestamp] AS BIGINT) AS Timestamp\n",
    "FROM HumanResources.EmployeeDepartmentHistory\n",
    "WHERE CAST([Timestamp] AS BIGINT) > {max_timestamp_aw_edh}\n",
    "\"\"\"\n",
    "try:\n",
    "    df_new_records_edh = pd.read_sql(query_new_records_edh, engine_source)\n",
    "    print(\"New records loaded into DataFrame:\")\n",
    "    print(df_new_records_edh.head().to_markdown())\n",
    "except Exception as e:\n",
    "    print(f\"Error loading new records: {e}\")"
   ]
  },
  {
   "cell_type": "code",
   "execution_count": 57,
   "metadata": {},
   "outputs": [
    {
     "name": "stdout",
     "output_type": "stream",
     "text": [
      "Employee data loaded into DataFrame:\n",
      "      BusinessEntityID  JobTitle\n",
      "--  ------------------  -----------------------------\n",
      " 0                   1  Chief Executive Officer\n",
      " 1                   2  Vice President of Engineering\n",
      " 2                   3  Engineering Manager\n",
      " 3                   4  Senior Tool Designer\n",
      " 4                   5  Design Engineer\n"
     ]
    }
   ],
   "source": [
    "import pandas as pd\n",
    "from sqlalchemy import create_engine\n",
    "\n",
    "# Extract JobTitle and BusinessEntityID from Employee table\n",
    "query_employee = \"\"\"\n",
    "SELECT BusinessEntityID, JobTitle\n",
    "FROM HumanResources.Employee\n",
    "\"\"\"\n",
    "try:\n",
    "    df_employee = pd.read_sql(query_employee, engine_source)\n",
    "    print(\"Employee data loaded into DataFrame:\")\n",
    "    print(df_employee.head().to_markdown(tablefmt='simple'))\n",
    "except Exception as e:\n",
    "    print(f\"Error loading employee data: {e}\")\n"
   ]
  },
  {
   "cell_type": "code",
   "execution_count": 58,
   "metadata": {},
   "outputs": [
    {
     "name": "stdout",
     "output_type": "stream",
     "text": [
      "EmployeeDepartmentHistory data loaded into DataFrame:\n",
      "      BusinessEntityID    ShiftID  StartDate    EndDate     ModifiedDate\n",
      "--  ------------------  ---------  -----------  ----------  --------------------------\n",
      " 0                   1          2  2009-01-14   2024-08-17  2024-08-17 10:36:30.557000\n",
      " 1                   1          2  2024-08-12   2024-08-17  2024-08-17 10:36:30.557000\n",
      " 2                   1          2  2024-08-12   2024-08-17  2024-08-17 10:36:30.557000\n",
      " 3                   2          1  2008-01-31               2008-01-30 00:00:00\n",
      " 4                   2          2  2020-08-12               2024-08-12 13:38:03.163000\n"
     ]
    }
   ],
   "source": [
    "# Extract EmployeeDepartmentHistory data\n",
    "query_history = \"\"\"\n",
    "SELECT BusinessEntityID, ShiftID, StartDate, EndDate, ModifiedDate\n",
    "FROM HumanResources.EmployeeDepartmentHistory\n",
    "\"\"\"\n",
    "try:\n",
    "    df_history = pd.read_sql(query_history, engine_source)\n",
    "    print(\"EmployeeDepartmentHistory data loaded into DataFrame:\")\n",
    "    print(df_history.head().to_markdown(tablefmt='simple'))\n",
    "except Exception as e:\n",
    "    print(f\"Error loading employee department history data: {e}\")\n"
   ]
  },
  {
   "cell_type": "code",
   "execution_count": 59,
   "metadata": {},
   "outputs": [
    {
     "name": "stdout",
     "output_type": "stream",
     "text": [
      "Merged DataFrame:\n",
      "      BusinessEntityID    ShiftID  StartDate    EndDate    ModifiedDate           Timestamp  JobTitle\n",
      "--  ------------------  ---------  -----------  ---------  -------------------  -----------  ----------------------------\n",
      " 0                 200          1  2009-01-17              2010-01-01 00:00:00       248015  Production Technician - WC40\n"
     ]
    }
   ],
   "source": [
    "# Merge DataFrames on BusinessEntityID\n",
    "df_merged = pd.merge(df_new_records_edh, df_employee, on='BusinessEntityID', how='left')\n",
    "\n",
    "print(\"Merged DataFrame:\")\n",
    "print(df_merged.head().to_markdown(tablefmt='simple'))"
   ]
  },
  {
   "cell_type": "markdown",
   "metadata": {},
   "source": [
    "## SCD2"
   ]
  },
  {
   "cell_type": "code",
   "execution_count": 60,
   "metadata": {},
   "outputs": [
    {
     "name": "stdout",
     "output_type": "stream",
     "text": [
      "[{'BusinessEntityID': 200, 'ShiftID': 1, 'StartDate': datetime.date(2009, 1, 17), 'EndDate': None, 'ModifiedDate': Timestamp('2010-01-01 00:00:00'), 'Timestamp': 248015}]\n",
      "UPDATE [dimension].[EmployeeDepartmentHistory]\n",
      "            SET [IsCurrent] = 0,\n",
      "                [scd_enddate] = '2024-08-31 12:17:32'\n",
      "            WHERE [BusinessEntityID] = 200\n",
      "              AND [IsCurrent] = 1\n",
      "              AND ([scd_enddate] IS NULL);\n",
      "            \n"
     ]
    }
   ],
   "source": [
    "\n",
    "import datetime;\n",
    " \n",
    "# ct stores current time\n",
    "ct = datetime.datetime.now()\n",
    "now = ct.strftime('%Y-%m-%d %H:%M:%S')\n",
    "business_entity_id =200\n",
    "# Convert new records to a list of dictionaries\n",
    "update_records = df_new_records_edh.to_dict(orient='records')\n",
    "print(update_records)\n",
    "# Update existing records\n",
    "session = sessionmaker(engine_target) # \n",
    "with session.begin() as sess: #     for record in update_records:\n",
    "    update_query = f\"\"\"UPDATE [dimension].[EmployeeDepartmentHistory]\n",
    "            SET [IsCurrent] = 0,\n",
    "                [scd_enddate] = '{now}'\n",
    "            WHERE [BusinessEntityID] = {business_entity_id}\n",
    "              AND [IsCurrent] = 1\n",
    "              AND ([scd_enddate] IS NULL);\n",
    "            \"\"\"\n",
    "    sess.execute(text(update_query))\n",
    "\n",
    "\n",
    "print(update_query)"
   ]
  },
  {
   "cell_type": "code",
   "execution_count": 61,
   "metadata": {},
   "outputs": [
    {
     "name": "stdout",
     "output_type": "stream",
     "text": [
      "[{'BusinessEntityID': 200, 'ShiftID': 1, 'StartDate': datetime.date(2009, 1, 17), 'EndDate': None, 'ModifiedDate': Timestamp('2010-01-01 00:00:00'), 'Timestamp': 248015}]\n",
      "Existing records updated successfully.\n",
      "New records successfully inserted into dimension.EmployeeDepartmentHistory with IsCurrent = 1\n"
     ]
    }
   ],
   "source": [
    "import datetime;\n",
    " \n",
    "# ct stores current time\n",
    "ct = datetime.datetime.now()\n",
    "now = ct.strftime('%Y-%m-%d %H:%M:%S')\n",
    "business_entity_id =200\n",
    "# Convert new records to a list of dictionaries\n",
    "update_records = df_new_records_edh.to_dict(orient='records')\n",
    "print(update_records)\n",
    "# Update existing records\n",
    "with engine_target.connect() as connection:\n",
    "    for record in update_records:\n",
    "        update_query = f\"\"\"UPDATE [dimension].[EmployeeDepartmentHistory]\n",
    "                SET [IsCurrent] = 0,\n",
    "                    [scd_enddate] = '{now}'\n",
    "                WHERE [BusinessEntityID] = {business_entity_id}\n",
    "                  AND [IsCurrent] = 1\n",
    "                  AND ([scd_enddate] IS NULL);\n",
    "                \"\"\"\n",
    "        connection.execute(text(update_query))\n",
    "        #                    , {\n",
    "        #     'start_date': now,\n",
    "        #     'business_entity_id': record['BusinessEntityID']\n",
    "        # }\n",
    "        \n",
    "\n",
    "print(\"Existing records updated successfully.\")\n",
    "\n",
    "# Ensure the `Timestamp` column is not included in the DataFrame\n",
    "df_merged_no_timestamp = df_merged.drop(columns=['Timestamp'], errors='ignore')\n",
    "\n",
    "# Set `IsCurrent` to 1 for all new records\n",
    "df_merged_no_timestamp['IsCurrent'] = 1\n",
    "\n",
    "# Insert new records\n",
    "target_schema = 'dimension'\n",
    "target_table = 'EmployeeDepartmentHistory'\n",
    "\n",
    "df_merged_no_timestamp.to_sql(target_table, con=engine_target, schema=target_schema, if_exists='append', index=False, chunksize=1000)\n",
    "print(\"New records successfully inserted into dimension.EmployeeDepartmentHistory with IsCurrent = 1\")\n"
   ]
  },
  {
   "cell_type": "code",
   "execution_count": 62,
   "metadata": {},
   "outputs": [
    {
     "name": "stdout",
     "output_type": "stream",
     "text": [
      "New records successfully inserted into dimension.EmployeeDepartmentHistory with IsCurrent = 1\n"
     ]
    }
   ],
   "source": [
    "\n",
    "# Ensure the `Timestamp` column is not included in the DataFrame\n",
    "df_merged_no_timestamp = df_merged.drop(columns=['Timestamp'], errors='ignore')\n",
    "\n",
    "# Set `IsCurrent` to 1 for all new records\n",
    "df_merged_no_timestamp['IsCurrent'] = 1\n",
    "\n",
    "# Insert new records\n",
    "target_schema = 'dimension'\n",
    "target_table = 'EmployeeDepartmentHistory'\n",
    "\n",
    "df_merged_no_timestamp.to_sql(target_table, con=engine_target, schema=target_schema, if_exists='append', index=False, chunksize=1000)\n",
    "print(\"New records successfully inserted into dimension.EmployeeDepartmentHistory with IsCurrent = 1\")\n"
   ]
  },
  {
   "cell_type": "markdown",
   "metadata": {},
   "source": [
    "## SCD3"
   ]
  },
  {
   "cell_type": "code",
   "execution_count": 63,
   "metadata": {},
   "outputs": [
    {
     "data": {
      "text/plain": [
       "3"
      ]
     },
     "execution_count": 63,
     "metadata": {},
     "output_type": "execute_result"
    }
   ],
   "source": [
    "delta_update = [i['BusinessEntityID'] for i in update_records_source]\n",
    "existing = df_existing_records[df_existing_records['BusinessEntityID'].isin(delta_update)]\n",
    "update_records_dest = existing.to_dict(orient='records')\n",
    "update_records_dest[0]['ShiftID']"
   ]
  },
  {
   "cell_type": "code",
   "execution_count": 64,
   "metadata": {},
   "outputs": [
    {
     "data": {
      "text/plain": [
       "[{'BusinessEntityID': 200,\n",
       "  'ShiftID': 3,\n",
       "  'StartDate': datetime.date(2009, 1, 17),\n",
       "  'EndDate': None,\n",
       "  'ModifiedDate': Timestamp('2010-01-01 00:00:00'),\n",
       "  'Timestamp': b'\\x00\\x00\\x00\\x00\\x00\\x02N]',\n",
       "  'IsCurrent': False},\n",
       " {'BusinessEntityID': 200,\n",
       "  'ShiftID': 3,\n",
       "  'StartDate': datetime.date(2009, 1, 17),\n",
       "  'EndDate': None,\n",
       "  'ModifiedDate': Timestamp('2010-01-01 00:00:00'),\n",
       "  'Timestamp': b'\\x00\\x00\\x00\\x00\\x00\\x02N`',\n",
       "  'IsCurrent': True}]"
      ]
     },
     "execution_count": 64,
     "metadata": {},
     "output_type": "execute_result"
    }
   ],
   "source": [
    "update_records_dest"
   ]
  },
  {
   "cell_type": "code",
   "execution_count": 65,
   "metadata": {},
   "outputs": [
    {
     "name": "stdout",
     "output_type": "stream",
     "text": [
      "[{'BusinessEntityID': 200, 'ShiftID': 1, 'StartDate': datetime.date(2009, 1, 17), 'EndDate': None, 'ModifiedDate': Timestamp('2010-01-01 00:00:00'), 'Timestamp': 248015}]\n"
     ]
    },
    {
     "data": {
      "text/plain": [
       "'UPDATE [dimension].[EmployeeDepartmentHistory] SET ALT_shiftid = 3,[shiftid] = 1\\n        WHERE [BusinessEntityID] = 200'"
      ]
     },
     "execution_count": 65,
     "metadata": {},
     "output_type": "execute_result"
    }
   ],
   "source": [
    "business_entity_id =200\n",
    "# Convert new records to a list of dictionaries\n",
    "update_records_source = df_new_records_edh.to_dict(orient='records')\n",
    "print(update_records_source)\n",
    "update_query = f\"\"\"UPDATE [dimension].[EmployeeDepartmentHistory] SET ALT_shiftid = {update_records_dest[0]['ShiftID']},[shiftid] = {update_records_source[0]['ShiftID']}\n",
    "        WHERE [BusinessEntityID] = {business_entity_id}\"\"\"\n",
    "update_query"
   ]
  },
  {
   "cell_type": "code",
   "execution_count": 66,
   "metadata": {},
   "outputs": [
    {
     "name": "stdout",
     "output_type": "stream",
     "text": [
      "[{'BusinessEntityID': 200, 'ShiftID': 1, 'StartDate': datetime.date(2009, 1, 17), 'EndDate': None, 'ModifiedDate': Timestamp('2010-01-01 00:00:00'), 'Timestamp': 248015}]\n",
      "Existing records updated successfully.\n"
     ]
    }
   ],
   "source": [
    "import datetime;\n",
    " \n",
    "# ct stores current time\n",
    "# ct = datetime.datetime.now()\n",
    "# now = ct.strftime('%Y-%m-%d %H:%M:%S')\n",
    "business_entity_id =200\n",
    "# Convert new records to a list of dictionaries\n",
    "update_records_source = df_new_records_edh.to_dict(orient='records')\n",
    "print(update_records_source)\n",
    "# Update existing records\n",
    "with engine_target.connect() as connection:\n",
    "    for record in update_records_source:\n",
    "        # update_query = text(\"\"\"\n",
    "        # UPDATE [dimension].[EmployeeDepartmentHistory]\n",
    "        # SET [IsCurrent] = 0,\n",
    "        #     [EndDate] = :start_date\n",
    "        # WHERE [BusinessEntityID] = :business_entity_id\n",
    "        #   AND [IsCurrent] = 1\n",
    "        #   AND ([EndDate] IS NULL OR [EndDate] > :start_date);\n",
    "        # \"\"\")\n",
    "\n",
    "        with session.begin() as sess: #     for record in update_records:\n",
    "            update_query = f\"\"\"UPDATE [dimension].[EmployeeDepartmentHistory] SET ALT_shiftid = {update_records_dest[0]['ShiftID']},[shiftid] = {update_records_source[0]['ShiftID']}\n",
    "                    WHERE [BusinessEntityID] = {business_entity_id}\"\"\"\n",
    "            sess.execute(text(update_query))\n",
    "\n",
    "\n",
    "        #                    , {\n",
    "        #     'start_date': now,\n",
    "        #     'business_entity_id': record['BusinessEntityID']\n",
    "        # }\n",
    "        \n",
    "\n",
    "print(\"Existing records updated successfully.\")\n",
    "\n",
    "\n"
   ]
  },
  {
   "cell_type": "code",
   "execution_count": 67,
   "metadata": {},
   "outputs": [
    {
     "name": "stdout",
     "output_type": "stream",
     "text": [
      "New records successfully inserted into dimension.EmployeeDepartmentHistory with IsCurrent = 1\n"
     ]
    }
   ],
   "source": [
    "# Ensure the `Timestamp` column is not included in the DataFrame\n",
    "df_merged_no_timestamp = df_merged.drop(columns=['Timestamp'], errors='ignore')\n",
    "\n",
    "# Set `IsCurrent` to 1 for all new records\n",
    "df_merged_no_timestamp['IsCurrent'] = 1\n",
    "\n",
    "# Insert new records\n",
    "target_schema = 'dimension'\n",
    "target_table = 'EmployeeDepartmentHistory'\n",
    "\n",
    "df_merged_no_timestamp.to_sql(target_table, con=engine_target, schema=target_schema, if_exists='append', index=False, chunksize=1000)\n",
    "print(\"New records successfully inserted into dimension.EmployeeDepartmentHistory with IsCurrent = 1\")"
   ]
  },
  {
   "cell_type": "code",
   "execution_count": 68,
   "metadata": {},
   "outputs": [
    {
     "name": "stdout",
     "output_type": "stream",
     "text": [
      "Maximum Timestamp from AdventureWorks2019 EmployeeDepartmentHistory: 248015\n",
      "Maximum Timestamp from AdventureWorks2019 Employee: 188930\n",
      "Maximum Timestamp from HR database EmployeeDepartmentHistory: 151144\n"
     ]
    }
   ],
   "source": [
    "import pandas as pd\n",
    "from sqlalchemy import create_engine\n",
    "\n",
    "# Step 1: Get the maximum Timestamp from the HR dimension table in both databases\n",
    "\n",
    "# Query to get the maximum Timestamp from the HR EmployeeDepartmentHistory table in AdventureWorks2019\n",
    "query_max_timestamp_aw_EmployeeDepartmentHistory = \"\"\"\n",
    "SELECT CONVERT(INT, MAX([Timestamp])) AS MaxTimestamp\n",
    "FROM [AdventureWorks2019].[HumanResources].[EmployeeDepartmentHistory]\n",
    "\"\"\"\n",
    "\n",
    "# Query to get the maximum Timestamp from the HR Employee table in AdventureWorks2019\n",
    "query_max_timestamp_aw_Employee = \"\"\"\n",
    "SELECT CONVERT(INT, MAX([Timestamp])) AS MaxTimestamp\n",
    "FROM [AdventureWorks2019].[HumanResources].[Employee]\n",
    "\"\"\"\n",
    "\n",
    "# Query to get the maximum Timestamp from the HR dimension table in the HR database\n",
    "query_max_timestamp_hr = \"\"\"\n",
    "SELECT CONVERT(INT, MAX([Timestamp])) AS MaxTimestamp\n",
    "FROM [dimension].[EmployeeDepartmentHistory]\n",
    "\"\"\"\n",
    "\n",
    "try:\n",
    "    # Execute the query for AdventureWorks2019 EmployeeDepartmentHistory table\n",
    "    max_timestamp_aw_edh = pd.read_sql(query_max_timestamp_aw_EmployeeDepartmentHistory, engine_source)['MaxTimestamp'].iloc[0]\n",
    "    print(f\"Maximum Timestamp from AdventureWorks2019 EmployeeDepartmentHistory: {max_timestamp_aw_edh}\")\n",
    "    \n",
    "    # Execute the query for AdventureWorks2019 Employee table\n",
    "    max_timestamp_aw_emp = pd.read_sql(query_max_timestamp_aw_Employee, engine_source)['MaxTimestamp'].iloc[0]\n",
    "    print(f\"Maximum Timestamp from AdventureWorks2019 Employee: {max_timestamp_aw_emp}\")\n",
    "    \n",
    "    # Execute the query for HR database EmployeeDepartmentHistory table\n",
    "    max_timestamp_hr = pd.read_sql(query_max_timestamp_hr, engine_target)['MaxTimestamp'].iloc[0]\n",
    "    print(f\"Maximum Timestamp from HR database EmployeeDepartmentHistory: {max_timestamp_hr}\")\n",
    "    \n",
    "except Exception as e:\n",
    "    print(f\"Error retrieving maximum Timestamps: {e}\")\n"
   ]
  },
  {
   "cell_type": "markdown",
   "metadata": {},
   "source": [
    "## TEST\n"
   ]
  },
  {
   "cell_type": "code",
   "execution_count": 47,
   "metadata": {},
   "outputs": [
    {
     "name": "stdout",
     "output_type": "stream",
     "text": [
      "Maximum Timestamp from AdventureWorks2019 EmployeeDepartmentHistory: 248014\n",
      "Maximum Timestamp from AdventureWorks2019 Employee: 188930\n",
      "Maximum Timestamp from HR database EmployeeDepartmentHistory: 151136\n"
     ]
    }
   ],
   "source": [
    "import pandas as pd\n",
    "from sqlalchemy import create_engine\n",
    "\n",
    "# Step 1: Get the maximum Timestamp from the HR dimension table in both databases\n",
    "\n",
    "# Query to get the maximum Timestamp from the HR EmployeeDepartmentHistory table in AdventureWorks2019\n",
    "query_max_timestamp_aw_EmployeeDepartmentHistory = \"\"\"\n",
    "SELECT CONVERT(INT, MAX([Timestamp])) AS MaxTimestamp\n",
    "FROM [AdventureWorks2019].[HumanResources].[EmployeeDepartmentHistory]\n",
    "\"\"\"\n",
    "\n",
    "# Query to get the maximum Timestamp from the HR Employee table in AdventureWorks2019\n",
    "query_max_timestamp_aw_Employee = \"\"\"\n",
    "SELECT CONVERT(INT, MAX([Timestamp])) AS MaxTimestamp\n",
    "FROM [AdventureWorks2019].[HumanResources].[Employee]\n",
    "\"\"\"\n",
    "\n",
    "# Query to get the maximum Timestamp from the HR dimension table in the HR database\n",
    "query_max_timestamp_hr = \"\"\"\n",
    "SELECT CONVERT(INT, MAX([Timestamp])) AS MaxTimestamp\n",
    "FROM [dimension].[EmployeeDepartmentHistory]\n",
    "\"\"\"\n",
    "\n",
    "try:\n",
    "    # Execute the query for AdventureWorks2019 EmployeeDepartmentHistory table\n",
    "    max_timestamp_aw_edh = pd.read_sql(query_max_timestamp_aw_EmployeeDepartmentHistory, engine_source)['MaxTimestamp'].iloc[0]\n",
    "    print(f\"Maximum Timestamp from AdventureWorks2019 EmployeeDepartmentHistory: {max_timestamp_aw_edh}\")\n",
    "    \n",
    "    # Execute the query for AdventureWorks2019 Employee table\n",
    "    max_timestamp_aw_emp = pd.read_sql(query_max_timestamp_aw_Employee, engine_source)['MaxTimestamp'].iloc[0]\n",
    "    print(f\"Maximum Timestamp from AdventureWorks2019 Employee: {max_timestamp_aw_emp}\")\n",
    "    \n",
    "    # Execute the query for HR database EmployeeDepartmentHistory table\n",
    "    max_timestamp_hr = pd.read_sql(query_max_timestamp_hr, engine_target)['MaxTimestamp'].iloc[0]\n",
    "    print(f\"Maximum Timestamp from HR database EmployeeDepartmentHistory: {max_timestamp_hr}\")\n",
    "    \n",
    "except Exception as e:\n",
    "    print(f\"Error retrieving maximum Timestamps: {e}\")\n",
    "\n"
   ]
  },
  {
   "cell_type": "code",
   "execution_count": 48,
   "metadata": {},
   "outputs": [
    {
     "name": "stdout",
     "output_type": "stream",
     "text": [
      "New records from Employee loaded into DataFrame:\n",
      "Empty DataFrame\n",
      "Columns: [BusinessEntityID, JobTitle, Timestamp]\n",
      "Index: []\n",
      "New records from EmployeeDepartmentHistory loaded into DataFrame:\n",
      "Empty DataFrame\n",
      "Columns: [BusinessEntityID, ShiftID, StartDate, EndDate, ModifiedDate, Timestamp]\n",
      "Index: []\n",
      "Existing records loaded into DataFrame:\n",
      "   BusinessEntityID  ShiftID   StartDate     EndDate            ModifiedDate  \\\n",
      "0                 1        2  2009-01-14  2024-08-17 2024-08-17 10:36:30.557   \n",
      "1                 1        2  2024-08-12  2024-08-17 2024-08-17 10:36:30.557   \n",
      "2                 1        2  2024-08-12  2024-08-17 2024-08-17 10:36:30.557   \n",
      "3                 2        1  2008-01-31        None 2008-01-30 00:00:00.000   \n",
      "4                 2        2  2020-08-12        None 2024-08-12 13:38:03.163   \n",
      "\n",
      "                       Timestamp  IsCurrent  \n",
      "0  b'\\x00\\x00\\x00\\x00\\x00\\x02M-'       True  \n",
      "1  b'\\x00\\x00\\x00\\x00\\x00\\x02M.'       True  \n",
      "2  b'\\x00\\x00\\x00\\x00\\x00\\x02M/'       True  \n",
      "3  b'\\x00\\x00\\x00\\x00\\x00\\x02M0'       True  \n",
      "4  b'\\x00\\x00\\x00\\x00\\x00\\x02M1'       True  \n",
      "Employee data loaded into DataFrame:\n",
      "   BusinessEntityID                       JobTitle\n",
      "0                 1        Chief Executive Officer\n",
      "1                 2  Vice President of Engineering\n",
      "2                 3            Engineering Manager\n",
      "3                 4           Senior Tool Designer\n",
      "4                 5                Design Engineer\n",
      "Merged DataFrame:\n",
      "Empty DataFrame\n",
      "Columns: [BusinessEntityID, ShiftID, StartDate, EndDate, ModifiedDate, Timestamp, JobTitle]\n",
      "Index: []\n"
     ]
    }
   ],
   "source": [
    "import pandas as pd\n",
    "from sqlalchemy import create_engine, text\n",
    "\n",
    "\n",
    "\n",
    "# Step 2: Extract new records from AdventureWorks2019 tables\n",
    "query_new_records_emp = f\"\"\"\n",
    "SELECT BusinessEntityID, JobTitle, CAST([Timestamp] AS BIGINT) AS Timestamp\n",
    "FROM HumanResources.Employee\n",
    "WHERE CAST([Timestamp] AS BIGINT) > {max_timestamp_aw_emp}\n",
    "\"\"\"\n",
    "\n",
    "query_new_records_edh = f\"\"\"\n",
    "SELECT BusinessEntityID, ShiftID, StartDate, EndDate, ModifiedDate, CAST([Timestamp] AS BIGINT) AS Timestamp\n",
    "FROM HumanResources.EmployeeDepartmentHistory\n",
    "WHERE CAST([Timestamp] AS BIGINT) > {max_timestamp_aw_edh}\n",
    "\"\"\"\n",
    "\n",
    "try:\n",
    "    df_new_records_emp = pd.read_sql(query_new_records_emp, engine_source)\n",
    "    print(\"New records from Employee loaded into DataFrame:\")\n",
    "    print(df_new_records_emp.head())\n",
    "\n",
    "    df_new_records_edh = pd.read_sql(query_new_records_edh, engine_source)\n",
    "    print(\"New records from EmployeeDepartmentHistory loaded into DataFrame:\")\n",
    "    print(df_new_records_edh.head())\n",
    "\n",
    "except Exception as e:\n",
    "    print(f\"Error loading new records: {e}\")\n",
    "\n",
    "# Step 3: Retrieve existing records from the target table\n",
    "query_existing_records = \"\"\"\n",
    "SELECT BusinessEntityID, ShiftID, StartDate, EndDate, ModifiedDate, Timestamp, IsCurrent\n",
    "FROM dimension.EmployeeDepartmentHistory\n",
    "\"\"\"\n",
    "\n",
    "try:\n",
    "    df_existing_records = pd.read_sql(query_existing_records, engine_target)\n",
    "    print(\"Existing records loaded into DataFrame:\")\n",
    "    print(df_existing_records.head())\n",
    "\n",
    "except Exception as e:\n",
    "    print(f\"Error loading existing records: {e}\")\n",
    "\n",
    "# Step 4: Extract JobTitle and BusinessEntityID from Employee table\n",
    "query_employee = \"\"\"\n",
    "SELECT BusinessEntityID, JobTitle\n",
    "FROM HumanResources.Employee\n",
    "\"\"\"\n",
    "\n",
    "try:\n",
    "    df_employee = pd.read_sql(query_employee, engine_source)\n",
    "    print(\"Employee data loaded into DataFrame:\")\n",
    "    print(df_employee.head())\n",
    "\n",
    "except Exception as e:\n",
    "    print(f\"Error loading employee data: {e}\")\n",
    "\n",
    "# Step 5: Merge DataFrames on BusinessEntityID\n",
    "df_merged = pd.merge(df_new_records_edh, df_employee, on='BusinessEntityID', how='left')\n",
    "print(\"Merged DataFrame:\")\n",
    "print(df_merged.head())\n",
    "\n",
    "##############################################################################################################################\n",
    "\n"
   ]
  },
  {
   "cell_type": "code",
   "execution_count": 49,
   "metadata": {},
   "outputs": [],
   "source": [
    "# Step 1: Get the maximum Timestamp from the HR dimension table in both databases\n",
    "query_max_timestamp_aw_edh = \"\"\"\n",
    "SELECT CONVERT(INT, MAX([Timestamp])) AS MaxTimestamp\n",
    "FROM [AdventureWorks2019].[HumanResources].[EmployeeDepartmentHistory]\n",
    "\"\"\"\n",
    "\n",
    "query_max_timestamp_aw_emp = \"\"\"\n",
    "SELECT CONVERT(INT, MAX([Timestamp])) AS MaxTimestamp\n",
    "FROM [AdventureWorks2019].[HumanResources].[Employee]\n",
    "\"\"\"\n",
    "\n",
    "query_max_timestamp_hr = \"\"\"\n",
    "SELECT CONVERT(INT, MAX([Timestamp])) AS MaxTimestamp\n",
    "FROM [dimension].[EmployeeDepartmentHistory]\n",
    "\"\"\""
   ]
  },
  {
   "cell_type": "code",
   "execution_count": null,
   "metadata": {},
   "outputs": [],
   "source": []
  }
 ],
 "metadata": {
  "hide_input": false,
  "kernelspec": {
   "display_name": "Python 3 (ipykernel)",
   "language": "python",
   "name": "python3"
  },
  "language_info": {
   "codemirror_mode": {
    "name": "ipython",
    "version": 3
   },
   "file_extension": ".py",
   "mimetype": "text/x-python",
   "name": "python",
   "nbconvert_exporter": "python",
   "pygments_lexer": "ipython3",
   "version": "3.11.9"
  },
  "varInspector": {
   "cols": {
    "lenName": 16,
    "lenType": 16,
    "lenVar": 40
   },
   "kernels_config": {
    "python": {
     "delete_cmd_postfix": "",
     "delete_cmd_prefix": "del ",
     "library": "var_list.py",
     "varRefreshCmd": "print(var_dic_list())"
    },
    "r": {
     "delete_cmd_postfix": ") ",
     "delete_cmd_prefix": "rm(",
     "library": "var_list.r",
     "varRefreshCmd": "cat(var_dic_list()) "
    }
   },
   "types_to_exclude": [
    "module",
    "function",
    "builtin_function_or_method",
    "instance",
    "_Feature"
   ],
   "window_display": false
  }
 },
 "nbformat": 4,
 "nbformat_minor": 2
}
